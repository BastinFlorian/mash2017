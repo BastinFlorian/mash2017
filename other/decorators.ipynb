{
 "cells": [
  {
   "cell_type": "markdown",
   "metadata": {},
   "source": [
    "# Decorators in Python"
   ]
  },
  {
   "cell_type": "markdown",
   "metadata": {},
   "source": [
    "This notebook offers a quick glimpse at decorators in Python. For a more complete tour about decorators, please consult the following websites/books this notebook takes inspiration from:\n",
    "* [A guide to Python's function decorators](https://www.thecodeship.com/patterns/guide-to-python-function-decorators/)\n",
    "* [PythonWiki](https://wiki.python.org/moin/PythonDecorators)\n",
    "* [PEP 318 -- Decorators for Functions and Methods](https://www.python.org/dev/peps/pep-0318/)\n",
    "* [Primer on Python Decorators](https://realpython.com/blog/python/primer-on-python-decorators/)\n",
    "* [Professional Python -- Chapter 1](https://www.amazon.fr/Professional-Python-Luke-Sneeringer/dp/1119070856)"
   ]
  },
  {
   "cell_type": "markdown",
   "metadata": {},
   "source": [
    "## Functions of functions"
   ]
  },
  {
   "cell_type": "markdown",
   "metadata": {},
   "source": [
    "Python's functions can take any `object` as an argument, including other functions. Consider the following example:"
   ]
  },
  {
   "cell_type": "code",
   "execution_count": 1,
   "metadata": {},
   "outputs": [
    {
     "name": "stdout",
     "output_type": "stream",
     "text": [
      "Function name: foo\n"
     ]
    }
   ],
   "source": [
    "def print_name(func):\n",
    "    print(\"Function name:\", func.__name__)\n",
    "\n",
    "def foo(a, b):\n",
    "    return a + b\n",
    "\n",
    "\n",
    "print_name(foo)"
   ]
  },
  {
   "cell_type": "markdown",
   "metadata": {},
   "source": [
    "Note that the function `foo` did not need to be executed (nor given arguments in `print_name`). The function `print_name` acts on the **function**, not on its result."
   ]
  },
  {
   "cell_type": "markdown",
   "metadata": {},
   "source": [
    "## Returning functions"
   ]
  },
  {
   "cell_type": "markdown",
   "metadata": {},
   "source": [
    "A more interesting feature of Python's functions is that they can return other functions; even functions defined **inside** the current scope."
   ]
  },
  {
   "cell_type": "code",
   "execution_count": 2,
   "metadata": {},
   "outputs": [
    {
     "name": "stdout",
     "output_type": "stream",
     "text": [
      "I'm busy.\n",
      "I'm not here.\n"
     ]
    }
   ],
   "source": [
    "def create_answering_machine(message):\n",
    "    def answer():\n",
    "        print(message)\n",
    "\n",
    "    return answer\n",
    "\n",
    "\n",
    "busy = create_answering_machine(\"I'm busy.\")\n",
    "absent = create_answering_machine(\"I'm not here.\")\n",
    "\n",
    "busy()\n",
    "absent()"
   ]
  },
  {
   "cell_type": "markdown",
   "metadata": {},
   "source": [
    "In the above example, `create_answering_machine` takes a string as an argument and returns a *function* printing the input string when called, providing a way of easily creating customized functions. Note that `busy` and `absent` must be followed by parenthesis in order to print anything, since they are functions. "
   ]
  },
  {
   "cell_type": "markdown",
   "metadata": {},
   "source": [
    "## Why not both?"
   ]
  },
  {
   "cell_type": "markdown",
   "metadata": {},
   "source": [
    "Now let us see what can happen when we define a function taking a function as an argument **and** returning a function."
   ]
  },
  {
   "cell_type": "code",
   "execution_count": 3,
   "metadata": {},
   "outputs": [
    {
     "name": "stdout",
     "output_type": "stream",
     "text": [
      "Dummy function.\n",
      "Executing foo...\n",
      "Dummy function.\n",
      "Done!\n"
     ]
    }
   ],
   "source": [
    "def say_when_executed(func):\n",
    "    def new_func():\n",
    "        print(\"Executing \", func.__name__, \"...\", sep='')\n",
    "        func()\n",
    "        print(\"Done!\")\n",
    "\n",
    "    return new_func\n",
    "\n",
    "def foo():\n",
    "    print(\"Dummy function.\")\n",
    "\n",
    "\n",
    "foo()\n",
    "foo = say_when_executed(foo)\n",
    "foo()"
   ]
  },
  {
   "cell_type": "markdown",
   "metadata": {},
   "source": [
    "The function `say_when_executed` takes a function as an input and return the same function, except it now prints some the function's name before and after its execution. This seems to be an interesting logging tool. We could improve the previous example to extend it to functions with arguments, using the `*args` and `**kwargs` notation:"
   ]
  },
  {
   "cell_type": "code",
   "execution_count": 4,
   "metadata": {},
   "outputs": [
    {
     "name": "stdout",
     "output_type": "stream",
     "text": [
      "3\n",
      "Executing add...\n",
      "3\n",
      "Done!\n"
     ]
    }
   ],
   "source": [
    "def improved_logs(func):\n",
    "    def new_func(*args, **kwargs):\n",
    "        print(\"Executing \", func.__name__, \"...\", sep='')\n",
    "        func(*args, **kwargs)\n",
    "        print(\"Done!\")\n",
    "\n",
    "    return new_func\n",
    "\n",
    "def add(a, b):\n",
    "    print(a + b)\n",
    "\n",
    "\n",
    "add(1, 2)\n",
    "add = improved_logs(add)\n",
    "add(1, 2)"
   ]
  },
  {
   "cell_type": "markdown",
   "metadata": {},
   "source": [
    "## A more readable way: decorators"
   ]
  },
  {
   "cell_type": "markdown",
   "metadata": {},
   "source": [
    "The last example offers a great way to easily generate logs when executing specific functions. However, this can be make easier and more readable thanks to decorators. Decorators are functions that take a function as an argument and return another function (more precisely, they can take any `callable` as an argument - including classes - but this is out of the scope of this notebook). A decorator is called right before a function definition, using the `@` symbol. The previous example can be rewritten as follows:"
   ]
  },
  {
   "cell_type": "code",
   "execution_count": 5,
   "metadata": {},
   "outputs": [
    {
     "name": "stdout",
     "output_type": "stream",
     "text": [
      "Executing add...\n",
      "3\n",
      "Done!\n"
     ]
    }
   ],
   "source": [
    "def improved_logs(func):\n",
    "    def new_func(*args, **kwargs):\n",
    "        print(\"Executing \", func.__name__, \"...\", sep='')\n",
    "        func(*args, **kwargs)\n",
    "        print(\"Done!\")\n",
    "\n",
    "    return new_func\n",
    "\n",
    "@improved_logs\n",
    "def add(a, b):\n",
    "    print(a + b)\n",
    "\n",
    "\n",
    "add(1, 2)"
   ]
  },
  {
   "cell_type": "markdown",
   "metadata": {},
   "source": [
    "The `improved_logs` notation is exactly the same as `add = improved_logs(add)`."
   ]
  },
  {
   "cell_type": "markdown",
   "metadata": {},
   "source": [
    "We could also use a decorator to monitor a function execution time."
   ]
  },
  {
   "cell_type": "code",
   "execution_count": 6,
   "metadata": {},
   "outputs": [
    {
     "name": "stdout",
     "output_type": "stream",
     "text": [
      "Function just_wait executed in 2.0005388259887695 seconds.\n"
     ]
    }
   ],
   "source": [
    "import time\n",
    "\n",
    "def execution_time(func):\n",
    "    def new_func(*args, **kwargs):\n",
    "        t = time.time()\n",
    "        func(*args, **kwargs)\n",
    "        print(\"Function\", func.__name__, \"executed in\",\n",
    "              time.time() - t, \"seconds.\")\n",
    "\n",
    "    return new_func\n",
    "\n",
    "@execution_time\n",
    "def just_wait(sec):\n",
    "    time.sleep(sec)\n",
    "\n",
    "\n",
    "just_wait(2)"
   ]
  },
  {
   "cell_type": "markdown",
   "metadata": {},
   "source": [
    "## Useful decorators"
   ]
  },
  {
   "cell_type": "markdown",
   "metadata": {},
   "source": [
    "### Logging"
   ]
  },
  {
   "cell_type": "markdown",
   "metadata": {},
   "source": [
    "Often when monitoring or debugging a script execution, it can be useful to know the order in which functions are called, or even if they are called at all. Instead of writing a bunch of `print` statement at the beggining of every function, decorators offer a more elegant way to alter functions of interest."
   ]
  },
  {
   "cell_type": "code",
   "execution_count": 7,
   "metadata": {},
   "outputs": [
    {
     "name": "stdout",
     "output_type": "stream",
     "text": [
      "[LOG] Entered interesting_function\n",
      "I am an interesting function.\n",
      "[LOG] Exited interesting_function\n",
      "Nobody cares.\n",
      "[LOG] Entered very_interesting_function\n",
      "I am even more interesting.\n",
      "[LOG] Entered interesting_function\n",
      "I am an interesting function.\n",
      "[LOG] Exited interesting_function\n",
      "[LOG] Exited very_interesting_function\n"
     ]
    }
   ],
   "source": [
    "def log_it(func):\n",
    "    def new_func(*args, **kwargs):\n",
    "        print(\"[LOG] Entered\", func.__name__)\n",
    "        func(*args, **kwargs)\n",
    "        print(\"[LOG] Exited\", func.__name__)\n",
    "\n",
    "    return new_func\n",
    "\n",
    "@log_it\n",
    "def interesting_function():\n",
    "    print(\"I am an interesting function.\")\n",
    "\n",
    "@log_it\n",
    "def very_interesting_function():\n",
    "    print(\"I am even more interesting.\")\n",
    "    interesting_function()\n",
    "\n",
    "def not_interesting_function():\n",
    "    print(\"Nobody cares.\")\n",
    "\n",
    "\n",
    "interesting_function()\n",
    "not_interesting_function()\n",
    "very_interesting_function()"
   ]
  },
  {
   "cell_type": "markdown",
   "metadata": {},
   "source": [
    "This is a very simple example about logging. For better practices and in-depth logging tools explanations, one should check the [Python's Logging HOWTO](https://docs.python.org/3/howto/logging.html)."
   ]
  },
  {
   "cell_type": "markdown",
   "metadata": {},
   "source": [
    "### Monitoring execution time"
   ]
  },
  {
   "cell_type": "markdown",
   "metadata": {},
   "source": [
    "Another application of decorators we mentioned earlier concerns functions execution times."
   ]
  },
  {
   "cell_type": "code",
   "execution_count": 8,
   "metadata": {},
   "outputs": [
    {
     "name": "stdout",
     "output_type": "stream",
     "text": [
      "[LOG] Entered new_func\n",
      "a_long_func's execution time: 5.00 second(s).\n",
      "[LOG] Exited new_func\n"
     ]
    }
   ],
   "source": [
    "def time_it(func):\n",
    "    def new_func(*args, **kwargs):\n",
    "        t = time.time()\n",
    "        func(*args, **kwargs)\n",
    "        exec_time = time.time() - t\n",
    "        print(func.__name__, \"'s execution time: \",\n",
    "              \"{0:.2f}\".format(exec_time), \" second(s).\",\n",
    "              sep='')\n",
    "\n",
    "    return new_func\n",
    "\n",
    "@log_it\n",
    "@time_it\n",
    "def a_long_func():\n",
    "    time.sleep(5)\n",
    "\n",
    "\n",
    "a_long_func()"
   ]
  },
  {
   "cell_type": "markdown",
   "metadata": {},
   "source": [
    "Here we combined two decorators: `log_it` and `time_it`. They have no influence on the function itself (they are just 'printers') so their order is not critical, expect for the printing order. Note however that if you are chaining operators that modify the core function, they are executed in order from bottom to top. In other word, the code\n",
    "```\n",
    "@decorator_a\n",
    "@decorator_b\n",
    "def foo()\n",
    "    return 0\n",
    "```\n",
    "is equivalent to\n",
    "```\n",
    "def foo()\n",
    "    return 0\n",
    "\n",
    "foo = decorator_a(decorator_b(foo))\n",
    "```"
   ]
  },
  {
   "cell_type": "markdown",
   "metadata": {},
   "source": [
    "### Caching results"
   ]
  },
  {
   "cell_type": "markdown",
   "metadata": {},
   "source": [
    "The final application examples we will see concerns the possibility of caching some function results, in order to avoid useless recomputations. For the sake of clarity, we will not be implementing this functionality here, but rather using the `lru_cache` decorator from the `functools` module."
   ]
  },
  {
   "cell_type": "code",
   "execution_count": 9,
   "metadata": {},
   "outputs": [
    {
     "name": "stdout",
     "output_type": "stream",
     "text": [
      "First time: 5.02e-04 sec\n",
      "Second time: 0.00e+00 sec\n"
     ]
    }
   ],
   "source": [
    "from functools import lru_cache\n",
    "\n",
    "@lru_cache(maxsize=2000)\n",
    "def fib(n):\n",
    "    if n < 2:\n",
    "        return n\n",
    "    return fib(n-1) + fib(n-2)\n",
    "\n",
    "\n",
    "fib.cache_clear()\n",
    "st = time.time()\n",
    "fib(600)\n",
    "end1 = time.time()\n",
    "fib(600)\n",
    "end2 = time.time()\n",
    "\n",
    "print(\"First time: {0:.2e} sec\".format(end1 - st))\n",
    "print(\"Second time: {0:.2e} sec\".format(end2 - end1))"
   ]
  },
  {
   "cell_type": "markdown",
   "metadata": {},
   "source": [
    "In this case, `lru_cache` is called using an argument. This is another extension of decorators that we will not cover here. For further details and explanations, feel free to read tutorials mentioned earlier and references therein."
   ]
  },
  {
   "cell_type": "markdown",
   "metadata": {},
   "source": [
    "## Try it!"
   ]
  },
  {
   "cell_type": "markdown",
   "metadata": {},
   "source": [
    "Decorators can be very convenient tools for extending the functionalities of your code, monitoring a script behavior and keeping a clean code. Moreover, thanks to the Python's community being very active, they are tons of useful decorators for you to try out, so you probably won't have to even implement one anytime soon. Don't hesitate to try them out and share those that you find particularly useful."
   ]
  }
 ],
 "metadata": {
  "kernelspec": {
   "display_name": "Python 3",
   "language": "python",
   "name": "python3"
  },
  "language_info": {
   "codemirror_mode": {
    "name": "ipython",
    "version": 3
   },
   "file_extension": ".py",
   "mimetype": "text/x-python",
   "name": "python",
   "nbconvert_exporter": "python",
   "pygments_lexer": "ipython3",
   "version": "3.6.3"
  }
 },
 "nbformat": 4,
 "nbformat_minor": 2
}
